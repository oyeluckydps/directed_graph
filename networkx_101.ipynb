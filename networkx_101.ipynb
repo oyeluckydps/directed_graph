{
 "cells": [
  {
   "cell_type": "code",
   "execution_count": 25,
   "id": "a54c6e2f",
   "metadata": {},
   "outputs": [],
   "source": [
    "import networkx as nx\n",
    "from copy import copy, deepcopy"
   ]
  },
  {
   "cell_type": "code",
   "execution_count": 26,
   "id": "1c5d9906",
   "metadata": {},
   "outputs": [],
   "source": [
    "DG2 = nx.DiGraph()\n",
    "DG2.add_edges_from([(1, 2), (2, 1)])"
   ]
  },
  {
   "cell_type": "code",
   "execution_count": 27,
   "id": "10c501ae",
   "metadata": {},
   "outputs": [
    {
     "data": {
      "text/plain": [
       "AdjacencyView({1: {2: {}}, 2: {1: {}}})"
      ]
     },
     "execution_count": 27,
     "metadata": {},
     "output_type": "execute_result"
    }
   ],
   "source": [
    "DG2.adj"
   ]
  },
  {
   "cell_type": "code",
   "execution_count": 70,
   "id": "37cb950a",
   "metadata": {},
   "outputs": [
    {
     "data": {
      "text/plain": [
       "3"
      ]
     },
     "execution_count": 70,
     "metadata": {},
     "output_type": "execute_result"
    }
   ],
   "source": [
    "DG3_base1 = deepcopy(DG_2)\n",
    "DG3_base1.add_edges_from([(1, 3), (3, 1)])\n",
    "DG3_base1.adj\n",
    "DG3_base1.number_of_nodes()"
   ]
  },
  {
   "cell_type": "code",
   "execution_count": 39,
   "id": "34e6ddc5",
   "metadata": {},
   "outputs": [
    {
     "data": {
      "text/plain": [
       "NodeView((0, 1, 2))"
      ]
     },
     "execution_count": 39,
     "metadata": {},
     "output_type": "execute_result"
    }
   ],
   "source": [
    "adjacency_dict = {0: (1, 2), 1: (0, 2), 2: (0, 1)}\n",
    "DG3_base2 = nx.DiGraph(adjacency_dict)\n",
    "DG3_base2.edges"
   ]
  },
  {
   "cell_type": "code",
   "execution_count": 40,
   "id": "3897d774",
   "metadata": {},
   "outputs": [
    {
     "name": "stdout",
     "output_type": "stream",
     "text": [
      "[0, 1, 2]\n"
     ]
    }
   ],
   "source": [
    "print(DG3_base2.nodes)"
   ]
  },
  {
   "cell_type": "code",
   "execution_count": 30,
   "id": "1a879338",
   "metadata": {},
   "outputs": [],
   "source": [
    "DG3_base = [DG3_base1, DG3_base2]\n",
    "nx.write_gml(DG3_base1, \"DG3_base1.gml\")\n",
    "nx.write_adjlist(DG3_base2, \"DG3_base2.txt\")"
   ]
  },
  {
   "cell_type": "code",
   "execution_count": 60,
   "id": "2e244e93",
   "metadata": {},
   "outputs": [
    {
     "name": "stdout",
     "output_type": "stream",
     "text": [
      "{1: {2: {}}, 2: {3: {}, 4: {}}, 3: {1: {}}, 4: {1: {}}}\n",
      "{1: {0: {}}, 0: {3: {}, 2: {}}, 3: {1: {}}, 2: {1: {}}}\n"
     ]
    }
   ],
   "source": [
    "DG4_base3 =nx.DiGraph()\n",
    "DG4_base3.add_edges_from([(1,2), (2,3), [2,4], [3,1], [4,1]])\n",
    "print(DG4_base3.adj)\n",
    "DG4_base3_ordered = nx.convert_node_labels_to_integers(DG4_base3, first_label = 0, ordering = 'decreasing degree')\n",
    "print(DG4_base3_ordered.adj)"
   ]
  },
  {
   "cell_type": "code",
   "execution_count": 54,
   "id": "97e6cb51",
   "metadata": {},
   "outputs": [
    {
     "name": "stdout",
     "output_type": "stream",
     "text": [
      "{0: {1: {}}, 1: {2: {}, 3: {}}, 2: {0: {}}, 3: {0: {}}}\n",
      "[(0, 1), (1, 2), (2, 1), (3, 1)]\n",
      "{1: 0, 0: 1, 2: 2, 3: 3}\n",
      "{1: {0: {}}, 0: {2: {}, 3: {}}, 2: {1: {}}, 3: {1: {}}}\n",
      "{0: {2: {}, 3: {}}, 1: {0: {}}, 2: {1: {}}, 3: {1: {}}}\n"
     ]
    }
   ],
   "source": [
    "DG4_base3_rebased = nx.convert_node_labels_to_integers(DG4_base3)\n",
    "print(DG4_base3_rebased.adj)\n",
    "DG4_base3_edge_count = [(node, len(DG4_base3_rebased.out_edges(node))) for node in DG4_base3_rebased.nodes]\n",
    "print(DG4_base3_edge_count)\n",
    "DG4_base3_new_label = {old_node[0]: i for i, old_node in \\\n",
    "                       enumerate(sorted(DG4_base3_edge_count, key = lambda item: item[1], reverse = True))}\n",
    "print(DG4_base3_new_label)\n",
    "DG4_base3_out_nrmlzed = nx.relabel_nodes(DG4_base3_rebased, DG4_base3_new_label)\n",
    "print(DG4_base3_out_nrmlzed.adj)\n",
    "DG4_base3_out_nrmlzed_sorted = nx.DiGraph()\n",
    "DG4_base3_out_nrmlzed_sorted.add_nodes_from(sorted(DG4_base3_out_nrmlzed.nodes(data=True)))\n",
    "DG4_base3_out_nrmlzed_sorted.add_edges_from(DG4_base3_out_nrmlzed.edges(data=True))\n",
    "print(DG4_base3_out_nrmlzed_sorted.adj)"
   ]
  },
  {
   "cell_type": "code",
   "execution_count": 67,
   "id": "a9b72aa1",
   "metadata": {},
   "outputs": [],
   "source": [
    "import extended_DiGraph as edg"
   ]
  },
  {
   "cell_type": "code",
   "execution_count": 68,
   "id": "4cc2769f",
   "metadata": {},
   "outputs": [
    {
     "ename": "AttributeError",
     "evalue": "'DiGraph' object has no attribute 'adj_'",
     "output_type": "error",
     "traceback": [
      "\u001b[1;31m---------------------------------------------------------------------------\u001b[0m",
      "\u001b[1;31mAttributeError\u001b[0m                            Traceback (most recent call last)",
      "\u001b[1;32m<ipython-input-68-b0661cfd5af7>\u001b[0m in \u001b[0;36m<module>\u001b[1;34m\u001b[0m\n\u001b[0;32m      1\u001b[0m \u001b[0mDG1\u001b[0m \u001b[1;33m=\u001b[0m \u001b[0mnx\u001b[0m\u001b[1;33m.\u001b[0m\u001b[0mDiGraph\u001b[0m\u001b[1;33m(\u001b[0m\u001b[1;33m[\u001b[0m\u001b[1;33m(\u001b[0m\u001b[1;36m1\u001b[0m\u001b[1;33m,\u001b[0m\u001b[1;36m2\u001b[0m\u001b[1;33m)\u001b[0m\u001b[1;33m,\u001b[0m \u001b[1;33m(\u001b[0m\u001b[1;36m2\u001b[0m\u001b[1;33m,\u001b[0m\u001b[1;36m3\u001b[0m\u001b[1;33m)\u001b[0m\u001b[1;33m,\u001b[0m \u001b[1;33m[\u001b[0m\u001b[1;36m2\u001b[0m\u001b[1;33m,\u001b[0m\u001b[1;36m4\u001b[0m\u001b[1;33m]\u001b[0m\u001b[1;33m,\u001b[0m \u001b[1;33m[\u001b[0m\u001b[1;36m3\u001b[0m\u001b[1;33m,\u001b[0m\u001b[1;36m1\u001b[0m\u001b[1;33m]\u001b[0m\u001b[1;33m,\u001b[0m \u001b[1;33m[\u001b[0m\u001b[1;36m4\u001b[0m\u001b[1;33m,\u001b[0m\u001b[1;36m1\u001b[0m\u001b[1;33m]\u001b[0m\u001b[1;33m]\u001b[0m\u001b[1;33m)\u001b[0m\u001b[1;33m\u001b[0m\u001b[1;33m\u001b[0m\u001b[0m\n\u001b[1;32m----> 2\u001b[1;33m \u001b[0mprint\u001b[0m\u001b[1;33m(\u001b[0m\u001b[0mDG1\u001b[0m\u001b[1;33m.\u001b[0m\u001b[0madj_\u001b[0m\u001b[1;33m)\u001b[0m\u001b[1;33m\u001b[0m\u001b[1;33m\u001b[0m\u001b[0m\n\u001b[0m",
      "\u001b[1;31mAttributeError\u001b[0m: 'DiGraph' object has no attribute 'adj_'"
     ]
    }
   ],
   "source": [
    "DG1 = nx.DiGraph([(1,2), (2,3), [2,4], [3,1], [4,1]])\n",
    "print(DG1.adj_)"
   ]
  },
  {
   "cell_type": "code",
   "execution_count": null,
   "id": "7ea4d5d0",
   "metadata": {},
   "outputs": [],
   "source": [
    "DG2 = "
   ]
  }
 ],
 "metadata": {
  "kernelspec": {
   "display_name": "Python 3",
   "language": "python",
   "name": "python3"
  },
  "language_info": {
   "codemirror_mode": {
    "name": "ipython",
    "version": 3
   },
   "file_extension": ".py",
   "mimetype": "text/x-python",
   "name": "python",
   "nbconvert_exporter": "python",
   "pygments_lexer": "ipython3",
   "version": "3.8.8"
  }
 },
 "nbformat": 4,
 "nbformat_minor": 5
}
